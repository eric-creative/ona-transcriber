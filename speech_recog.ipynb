{
 "cells": [
  {
   "metadata": {},
   "cell_type": "code",
   "source": [
    "# Audi file format\n",
    "# .mp3 highly compressed, looses more data\n",
    "# .flac less compressed format\n",
    "# .wav not compressed format"
   ],
   "id": "e97d404d685e889",
   "outputs": [],
   "execution_count": null
  },
  {
   "metadata": {},
   "cell_type": "code",
   "source": [
    "# !pip install wave\n",
    "!pip install matplotlib"
   ],
   "id": "1c6520fd1a6f1c8d",
   "outputs": [],
   "execution_count": null
  },
  {
   "cell_type": "code",
   "id": "initial_id",
   "metadata": {
    "collapsed": true
   },
   "source": "import wave",
   "outputs": [],
   "execution_count": null
  },
  {
   "metadata": {},
   "cell_type": "code",
   "source": [
    "# Audio signal parameters\n",
    "# - number of channels\n",
    "# - sample width\n",
    "# - framerate/sample_rate: 44,100 Hz\n",
    "# - values of frame"
   ],
   "id": "4cbc357419e237c5",
   "outputs": [],
   "execution_count": null
  },
  {
   "metadata": {},
   "cell_type": "code",
   "source": [
    "obj = wave.open('./wav/wav.wav', 'rb')\n",
    "\n",
    "print(obj.getnframes())\n",
    "print(obj.getframerate()) \n",
    "print(obj.getsampwidth())\n",
    "print(obj.getnchannels())\n"
   ],
   "id": "3eb9003e6c928938",
   "outputs": [],
   "execution_count": null
  },
  {
   "metadata": {},
   "cell_type": "markdown",
   "source": "# Plotting the audio file .wav",
   "id": "8073e3e903950f9b"
  },
  {
   "metadata": {},
   "cell_type": "code",
   "source": [
    "import wave\n",
    "# import matplotlib.pyplot as plt\n",
    "import numpy as np\n",
    "\n",
    "\n",
    "obj = wave.open('./wav/wav.wav', 'rb')\n",
    "\n",
    "sample_freq = obj.getframerate()\n",
    "n_samples = obj.getnframes()\n",
    "signal_wave = obj.readframes(-1)\n",
    "\n",
    "obj.close()\n",
    "\n",
    "t_audio = n_samples / sample_freq\n",
    "\n",
    "print(t_audio)\n",
    "\n",
    "signal_array = np.frombuffer(signal_wave, dtype=np.int16)\n",
    "times = np.linspace(0, t_audio, n_samples)\n",
    "\n",
    "# matplotlib brought an error during installation\n"
   ],
   "id": "7b6266892e7258ac",
   "outputs": [],
   "execution_count": null
  },
  {
   "metadata": {},
   "cell_type": "markdown",
   "source": "# Recording Audio using microphone ion python",
   "id": "b6ec6574439c372d"
  },
  {
   "metadata": {
    "ExecuteTime": {
     "end_time": "2024-08-06T12:21:35.924492Z",
     "start_time": "2024-08-06T12:21:35.244730Z"
    }
   },
   "cell_type": "code",
   "source": [
    "import pyaudio\n",
    "import wave\n",
    "\n",
    "FRAMERATE_PER_BUFFER = 3200\n",
    "FORMAT = pyaudio.paInt16\n",
    "CHANNELS = 1\n",
    "RATE = 16000\n",
    "\n",
    "p = pyaudio.PyAudio()\n",
    "\n",
    "stream = p.open(\n",
    "    format=FORMAT,\n",
    "    channels=CHANNELS,\n",
    "    rate=RATE,\n",
    "    input=True,\n",
    "    frames_per_buffer=FRAMERATE_PER_BUFFER\n",
    ")\n",
    "\n",
    "print('Started streaming')\n",
    "\n",
    "seconds = 5\n",
    "frames = []\n",
    "\n",
    "for i in range(0, int(RATE / FRAMERATE_PER_BUFFER * seconds)):\n",
    "    data = stream.read(FRAMERATE_PER_BUFFER)\n",
    "    frames.append(data)\n",
    "\n",
    "stream.stop_stream()\n",
    "stream.close()\n",
    "p.terminate()\n",
    "\n",
    "print('Finished streaming')\n",
    "\n",
    "obj = wave.open('./wave/output.wav', 'rb')\n",
    "obj.setchannels(CHANNELS)\n",
    "obj.setsamplewidth(p.get_sample_size(FORMAT))\n",
    "obj.setframerate(RATE)\n",
    "obj.writeframes(b''.join(frames))\n",
    "obj.close()"
   ],
   "id": "eeae999e338ea609",
   "outputs": [
    {
     "ename": "OSError",
     "evalue": "[Errno -9996] Invalid input device (no default output device)",
     "output_type": "error",
     "traceback": [
      "\u001B[1;31m---------------------------------------------------------------------------\u001B[0m",
      "\u001B[1;31mOSError\u001B[0m                                   Traceback (most recent call last)",
      "Cell \u001B[1;32mIn[1], line 11\u001B[0m\n\u001B[0;32m      7\u001B[0m RATE \u001B[38;5;241m=\u001B[39m \u001B[38;5;241m16000\u001B[39m\n\u001B[0;32m      9\u001B[0m p \u001B[38;5;241m=\u001B[39m pyaudio\u001B[38;5;241m.\u001B[39mPyAudio()\n\u001B[1;32m---> 11\u001B[0m stream \u001B[38;5;241m=\u001B[39m p\u001B[38;5;241m.\u001B[39mopen(\n\u001B[0;32m     12\u001B[0m     \u001B[38;5;28mformat\u001B[39m\u001B[38;5;241m=\u001B[39mFORMAT,\n\u001B[0;32m     13\u001B[0m     channels\u001B[38;5;241m=\u001B[39mCHANNELS,\n\u001B[0;32m     14\u001B[0m     rate\u001B[38;5;241m=\u001B[39mRATE,\n\u001B[0;32m     15\u001B[0m     \u001B[38;5;28minput\u001B[39m\u001B[38;5;241m=\u001B[39m\u001B[38;5;28;01mTrue\u001B[39;00m,\n\u001B[0;32m     16\u001B[0m     frames_per_buffer\u001B[38;5;241m=\u001B[39mFRAMERATE_PER_BUFFER\n\u001B[0;32m     17\u001B[0m )\n\u001B[0;32m     19\u001B[0m \u001B[38;5;28mprint\u001B[39m(\u001B[38;5;124m'\u001B[39m\u001B[38;5;124mStarted streaming\u001B[39m\u001B[38;5;124m'\u001B[39m)\n\u001B[0;32m     21\u001B[0m seconds \u001B[38;5;241m=\u001B[39m \u001B[38;5;241m5\u001B[39m\n",
      "File \u001B[1;32m~\\miniconda3\\Lib\\site-packages\\pyaudio\\__init__.py:639\u001B[0m, in \u001B[0;36mPyAudio.open\u001B[1;34m(self, *args, **kwargs)\u001B[0m\n\u001B[0;32m    631\u001B[0m \u001B[38;5;28;01mdef\u001B[39;00m \u001B[38;5;21mopen\u001B[39m(\u001B[38;5;28mself\u001B[39m, \u001B[38;5;241m*\u001B[39margs, \u001B[38;5;241m*\u001B[39m\u001B[38;5;241m*\u001B[39mkwargs):\n\u001B[0;32m    632\u001B[0m \u001B[38;5;250m    \u001B[39m\u001B[38;5;124;03m\"\"\"Opens a new stream.\u001B[39;00m\n\u001B[0;32m    633\u001B[0m \n\u001B[0;32m    634\u001B[0m \u001B[38;5;124;03m    See constructor for :py:func:`PyAudio.Stream.__init__` for parameter\u001B[39;00m\n\u001B[1;32m   (...)\u001B[0m\n\u001B[0;32m    637\u001B[0m \u001B[38;5;124;03m    :returns: A new :py:class:`PyAudio.Stream`\u001B[39;00m\n\u001B[0;32m    638\u001B[0m \u001B[38;5;124;03m    \"\"\"\u001B[39;00m\n\u001B[1;32m--> 639\u001B[0m     stream \u001B[38;5;241m=\u001B[39m PyAudio\u001B[38;5;241m.\u001B[39mStream(\u001B[38;5;28mself\u001B[39m, \u001B[38;5;241m*\u001B[39margs, \u001B[38;5;241m*\u001B[39m\u001B[38;5;241m*\u001B[39mkwargs)\n\u001B[0;32m    640\u001B[0m     \u001B[38;5;28mself\u001B[39m\u001B[38;5;241m.\u001B[39m_streams\u001B[38;5;241m.\u001B[39madd(stream)\n\u001B[0;32m    641\u001B[0m     \u001B[38;5;28;01mreturn\u001B[39;00m stream\n",
      "File \u001B[1;32m~\\miniconda3\\Lib\\site-packages\\pyaudio\\__init__.py:441\u001B[0m, in \u001B[0;36mPyAudio.Stream.__init__\u001B[1;34m(self, PA_manager, rate, channels, format, input, output, input_device_index, output_device_index, frames_per_buffer, start, input_host_api_specific_stream_info, output_host_api_specific_stream_info, stream_callback)\u001B[0m\n\u001B[0;32m    438\u001B[0m     arguments[\u001B[38;5;124m'\u001B[39m\u001B[38;5;124mstream_callback\u001B[39m\u001B[38;5;124m'\u001B[39m] \u001B[38;5;241m=\u001B[39m stream_callback\n\u001B[0;32m    440\u001B[0m \u001B[38;5;66;03m# calling pa.open returns a stream object\u001B[39;00m\n\u001B[1;32m--> 441\u001B[0m \u001B[38;5;28mself\u001B[39m\u001B[38;5;241m.\u001B[39m_stream \u001B[38;5;241m=\u001B[39m pa\u001B[38;5;241m.\u001B[39mopen(\u001B[38;5;241m*\u001B[39m\u001B[38;5;241m*\u001B[39marguments)\n\u001B[0;32m    443\u001B[0m \u001B[38;5;28mself\u001B[39m\u001B[38;5;241m.\u001B[39m_input_latency \u001B[38;5;241m=\u001B[39m \u001B[38;5;28mself\u001B[39m\u001B[38;5;241m.\u001B[39m_stream\u001B[38;5;241m.\u001B[39minputLatency\n\u001B[0;32m    444\u001B[0m \u001B[38;5;28mself\u001B[39m\u001B[38;5;241m.\u001B[39m_output_latency \u001B[38;5;241m=\u001B[39m \u001B[38;5;28mself\u001B[39m\u001B[38;5;241m.\u001B[39m_stream\u001B[38;5;241m.\u001B[39moutputLatency\n",
      "\u001B[1;31mOSError\u001B[0m: [Errno -9996] Invalid input device (no default output device)"
     ]
    }
   ],
   "execution_count": 1
  },
  {
   "metadata": {},
   "cell_type": "code",
   "outputs": [],
   "execution_count": null,
   "source": "",
   "id": "afa79d0ccaa5609"
  }
 ],
 "metadata": {
  "kernelspec": {
   "display_name": "Python 3",
   "language": "python",
   "name": "python3"
  },
  "language_info": {
   "codemirror_mode": {
    "name": "ipython",
    "version": 2
   },
   "file_extension": ".py",
   "mimetype": "text/x-python",
   "name": "python",
   "nbconvert_exporter": "python",
   "pygments_lexer": "ipython2",
   "version": "2.7.6"
  }
 },
 "nbformat": 4,
 "nbformat_minor": 5
}
